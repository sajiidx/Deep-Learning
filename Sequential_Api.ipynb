{
  "nbformat": 4,
  "nbformat_minor": 0,
  "metadata": {
    "colab": {
      "name": "Sequential Api.ipynb",
      "provenance": [],
      "collapsed_sections": []
    },
    "kernelspec": {
      "name": "python3",
      "display_name": "Python 3"
    },
    "language_info": {
      "name": "python"
    }
  },
  "cells": [
    {
      "cell_type": "code",
      "metadata": {
        "id": "Uq9VqclrSRDf"
      },
      "source": [
        "import tensorflow as tf\n",
        "from tensorflow import keras\n",
        "from tensorflow.keras import layers\n",
        "from tensorflow.keras.datasets import mnist"
      ],
      "execution_count": 1,
      "outputs": []
    },
    {
      "cell_type": "code",
      "metadata": {
        "id": "mrPNxIZaSqDH"
      },
      "source": [
        "(xtrain, ytrain), (xtest, ytest) = mnist.load_data()\n",
        "xtrain = xtrain.reshape(-1, 28*28).astype(\"float32\") / 255.0\n",
        "xtest = xtest.reshape(-1, 28*28).astype(\"float32\") / 255.0"
      ],
      "execution_count": 3,
      "outputs": []
    },
    {
      "cell_type": "code",
      "metadata": {
        "id": "NbOBXW3hTQHO"
      },
      "source": [
        "# Sequentail API (Very COnvenient, not very flexible)\n",
        "model = keras.Sequential(\n",
        "    [\n",
        "      keras.Input(shape(28*28)),\n",
        "      layers.Dense(512, activation='relu'),\n",
        "      layers.Dense(256, activation='relu'),\n",
        "      layers.Dense(10)\n",
        "    ]\n",
        ")"
      ],
      "execution_count": 5,
      "outputs": []
    },
    {
      "cell_type": "code",
      "metadata": {
        "colab": {
          "base_uri": "https://localhost:8080/"
        },
        "id": "EIJUpCkFTzrO",
        "outputId": "c243601b-32a8-430e-a21e-ee627e57bd5b"
      },
      "source": [
        "model.compile(\n",
        "    loss = keras.losses.SparseCategoricalCrossentropy(from_logits=True),\n",
        "    optimizer = keras.optimizers.Adam(lr=0.001),\n",
        "    metrics=['accuracy']\n",
        ")"
      ],
      "execution_count": 6,
      "outputs": [
        {
          "output_type": "stream",
          "text": [
            "/usr/local/lib/python3.7/dist-packages/tensorflow/python/keras/optimizer_v2/optimizer_v2.py:375: UserWarning: The `lr` argument is deprecated, use `learning_rate` instead.\n",
            "  \"The `lr` argument is deprecated, use `learning_rate` instead.\")\n"
          ],
          "name": "stderr"
        }
      ]
    },
    {
      "cell_type": "code",
      "metadata": {
        "colab": {
          "base_uri": "https://localhost:8080/"
        },
        "id": "pZAHf3DxULzE",
        "outputId": "b4f5b719-bd4a-4d40-cd6e-8cfe60740a42"
      },
      "source": [
        "model.fit(xtrain, ytrain, batch_size=32, epochs=5, verbose=2)\n",
        "model.evaluate(xtest, ytest, batch_size=32, verbose=2)"
      ],
      "execution_count": 7,
      "outputs": [
        {
          "output_type": "stream",
          "text": [
            "Epoch 1/5\n"
          ],
          "name": "stdout"
        },
        {
          "output_type": "stream",
          "text": [
            "/usr/local/lib/python3.7/dist-packages/tensorflow/python/keras/backend.py:4930: UserWarning: \"`sparse_categorical_crossentropy` received `from_logits=True`, but the `output` argument was produced by a sigmoid or softmax activation and thus does not represent logits. Was this intended?\"\n",
            "  '\"`sparse_categorical_crossentropy` received `from_logits=True`, but '\n"
          ],
          "name": "stderr"
        },
        {
          "output_type": "stream",
          "text": [
            "1875/1875 - 10s - loss: 0.1856 - accuracy: 0.9437\n",
            "Epoch 2/5\n",
            "1875/1875 - 9s - loss: 0.0781 - accuracy: 0.9762\n",
            "Epoch 3/5\n",
            "1875/1875 - 9s - loss: 0.0531 - accuracy: 0.9835\n",
            "Epoch 4/5\n",
            "1875/1875 - 9s - loss: 0.0403 - accuracy: 0.9870\n",
            "Epoch 5/5\n",
            "1875/1875 - 9s - loss: 0.0314 - accuracy: 0.9895\n",
            "313/313 - 1s - loss: 0.0717 - accuracy: 0.9785\n"
          ],
          "name": "stdout"
        },
        {
          "output_type": "execute_result",
          "data": {
            "text/plain": [
              "[0.07174336910247803, 0.9785000085830688]"
            ]
          },
          "metadata": {
            "tags": []
          },
          "execution_count": 7
        }
      ]
    },
    {
      "cell_type": "code",
      "metadata": {
        "colab": {
          "base_uri": "https://localhost:8080/"
        },
        "id": "p635oP5zUaA9",
        "outputId": "102bb90b-1060-4092-d71d-8b52901444d7"
      },
      "source": [
        "model.summary()"
      ],
      "execution_count": 8,
      "outputs": [
        {
          "output_type": "stream",
          "text": [
            "Model: \"sequential_1\"\n",
            "_________________________________________________________________\n",
            "Layer (type)                 Output Shape              Param #   \n",
            "=================================================================\n",
            "dense_1 (Dense)              (None, 512)               401920    \n",
            "_________________________________________________________________\n",
            "dense_2 (Dense)              (None, 256)               131328    \n",
            "_________________________________________________________________\n",
            "dense_3 (Dense)              (None, 10)                2570      \n",
            "=================================================================\n",
            "Total params: 535,818\n",
            "Trainable params: 535,818\n",
            "Non-trainable params: 0\n",
            "_________________________________________________________________\n"
          ],
          "name": "stdout"
        }
      ]
    },
    {
      "cell_type": "code",
      "metadata": {
        "id": "qdIdf4r9UpbD"
      },
      "source": [
        ""
      ],
      "execution_count": null,
      "outputs": []
    }
  ]
}
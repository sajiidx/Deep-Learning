{
  "nbformat": 4,
  "nbformat_minor": 0,
  "metadata": {
    "colab": {
      "name": "Convolutional Neural Networks with Functional API &  Adding Regularization with L2 and Dropout.ipynb",
      "provenance": [],
      "collapsed_sections": []
    },
    "kernelspec": {
      "name": "python3",
      "display_name": "Python 3"
    },
    "language_info": {
      "name": "python"
    }
  },
  "cells": [
    {
      "cell_type": "code",
      "metadata": {
        "id": "McJxhex3eMwp"
      },
      "source": [
        "import tensorflow as tf\n",
        "from tensorflow import keras\n",
        "from tensorflow.keras import layers, regularizers\n",
        "from tensorflow.keras.datasets import cifar10"
      ],
      "execution_count": 1,
      "outputs": []
    },
    {
      "cell_type": "code",
      "metadata": {
        "colab": {
          "base_uri": "https://localhost:8080/"
        },
        "id": "RkzFWGYeePF_",
        "outputId": "803b9feb-7553-47c3-dd24-8cedbb5b0219"
      },
      "source": [
        "(xtrain, ytrain), (xtest, ytest) = cifar10.load_data()\n",
        "xtrain = xtrain.astype(\"float32\") / 255.0\n",
        "xtest = xtest.astype(\"float32\") / 255.0"
      ],
      "execution_count": 2,
      "outputs": [
        {
          "output_type": "stream",
          "text": [
            "Downloading data from https://www.cs.toronto.edu/~kriz/cifar-10-python.tar.gz\n",
            "170500096/170498071 [==============================] - 3s 0us/step\n"
          ],
          "name": "stdout"
        }
      ]
    },
    {
      "cell_type": "code",
      "metadata": {
        "id": "kIY-UvtTeQ2i"
      },
      "source": [
        "inputs = keras.Input(shape=(32, 32, 3))\n",
        "x = layers.Conv2D(\n",
        "    32, 3, padding='same', kernel_regularizer= regularizers.l2(0.01)\n",
        "    )(inputs)\n",
        "x = layers.BatchNormalization()(x)\n",
        "x = keras.activations.relu(x)\n",
        "x = layers.MaxPooling2D()(x)\n",
        "x = layers.Conv2D(\n",
        "    64, 5, padding='same', kernel_regularizer= regularizers.l2(0.01)\n",
        "    )(x)\n",
        "x = layers.BatchNormalization()(x)\n",
        "x = keras.activations.relu(x)\n",
        "x = layers.Conv2D(\n",
        "    128, 3, padding='same', kernel_regularizer= regularizers.l2(0.01)\n",
        "    )(x)\n",
        "x = layers.BatchNormalization()(x)\n",
        "x = keras.activations.relu(x)\n",
        "x = layers.Flatten()(x)\n",
        "x = layers.Dense(\n",
        "    64, activation='relu', kernel_regularizer= regularizers.l2(0.01)\n",
        "    )(x)\n",
        "x = layers.Dropout(0.5)(x)\n",
        "outputs = layers.Dense(10)(x)\n",
        "model = keras.Model(inputs = inputs, outputs=outputs)"
      ],
      "execution_count": 7,
      "outputs": []
    },
    {
      "cell_type": "code",
      "metadata": {
        "colab": {
          "base_uri": "https://localhost:8080/"
        },
        "id": "TY-uthXZeTh-",
        "outputId": "c1aa3d2e-78e0-438d-a0ad-a3ac905d2f52"
      },
      "source": [
        "model.compile(\n",
        "    loss=keras.losses.SparseCategoricalCrossentropy(from_logits=True),\n",
        "    optimizer=keras.optimizers.Adam(lr=3e-4),\n",
        "    metrics=['accuracy']\n",
        ")"
      ],
      "execution_count": 8,
      "outputs": [
        {
          "output_type": "stream",
          "text": [
            "/usr/local/lib/python3.7/dist-packages/tensorflow/python/keras/optimizer_v2/optimizer_v2.py:375: UserWarning: The `lr` argument is deprecated, use `learning_rate` instead.\n",
            "  \"The `lr` argument is deprecated, use `learning_rate` instead.\")\n"
          ],
          "name": "stderr"
        }
      ]
    },
    {
      "cell_type": "code",
      "metadata": {
        "colab": {
          "base_uri": "https://localhost:8080/"
        },
        "id": "Fat0GUlSeUMl",
        "outputId": "900f2a79-8f05-42f1-db24-3ba5d8fe6789"
      },
      "source": [
        "model.fit(xtrain, ytrain, batch_size=64, epochs=10, verbose=2)\n",
        "model.evaluate(xtest, ytest, batch_size=64, verbose=2)"
      ],
      "execution_count": 9,
      "outputs": [
        {
          "output_type": "stream",
          "text": [
            "Epoch 1/10\n",
            "782/782 - 248s - loss: 1.2905 - accuracy: 0.5453\n",
            "Epoch 2/10\n",
            "782/782 - 247s - loss: 0.8860 - accuracy: 0.6895\n",
            "Epoch 3/10\n",
            "782/782 - 245s - loss: 0.7179 - accuracy: 0.7486\n",
            "Epoch 4/10\n",
            "782/782 - 246s - loss: 0.6099 - accuracy: 0.7875\n",
            "Epoch 5/10\n",
            "782/782 - 248s - loss: 0.5214 - accuracy: 0.8175\n",
            "Epoch 6/10\n",
            "782/782 - 246s - loss: 0.4415 - accuracy: 0.8466\n",
            "Epoch 7/10\n",
            "782/782 - 246s - loss: 0.3610 - accuracy: 0.8759\n",
            "Epoch 8/10\n",
            "782/782 - 247s - loss: 0.3017 - accuracy: 0.8971\n",
            "Epoch 9/10\n",
            "782/782 - 247s - loss: 0.2422 - accuracy: 0.9185\n",
            "Epoch 10/10\n",
            "782/782 - 247s - loss: 0.1995 - accuracy: 0.9347\n",
            "157/157 - 12s - loss: 0.9207 - accuracy: 0.7389\n"
          ],
          "name": "stdout"
        },
        {
          "output_type": "execute_result",
          "data": {
            "text/plain": [
              "[0.9206944108009338, 0.7389000058174133]"
            ]
          },
          "metadata": {
            "tags": []
          },
          "execution_count": 9
        }
      ]
    },
    {
      "cell_type": "code",
      "metadata": {
        "colab": {
          "base_uri": "https://localhost:8080/"
        },
        "id": "OQUCaHMweWYw",
        "outputId": "ee28a8b6-12d6-4b0c-d9a3-2f7682712b26"
      },
      "source": [
        "model.summary()"
      ],
      "execution_count": 10,
      "outputs": [
        {
          "output_type": "stream",
          "text": [
            "Model: \"model\"\n",
            "_________________________________________________________________\n",
            "Layer (type)                 Output Shape              Param #   \n",
            "=================================================================\n",
            "input_5 (InputLayer)         [(None, 32, 32, 3)]       0         \n",
            "_________________________________________________________________\n",
            "conv2d_6 (Conv2D)            (None, 30, 30, 32)        896       \n",
            "_________________________________________________________________\n",
            "batch_normalization_6 (Batch (None, 30, 30, 32)        128       \n",
            "_________________________________________________________________\n",
            "tf.nn.relu_2 (TFOpLambda)    (None, 30, 30, 32)        0         \n",
            "_________________________________________________________________\n",
            "max_pooling2d_2 (MaxPooling2 (None, 15, 15, 32)        0         \n",
            "_________________________________________________________________\n",
            "conv2d_7 (Conv2D)            (None, 15, 15, 64)        51264     \n",
            "_________________________________________________________________\n",
            "batch_normalization_7 (Batch (None, 15, 15, 64)        256       \n",
            "_________________________________________________________________\n",
            "tf.nn.relu_3 (TFOpLambda)    (None, 15, 15, 64)        0         \n",
            "_________________________________________________________________\n",
            "conv2d_8 (Conv2D)            (None, 13, 13, 128)       73856     \n",
            "_________________________________________________________________\n",
            "batch_normalization_8 (Batch (None, 13, 13, 128)       512       \n",
            "_________________________________________________________________\n",
            "tf.nn.relu_4 (TFOpLambda)    (None, 13, 13, 128)       0         \n",
            "_________________________________________________________________\n",
            "flatten (Flatten)            (None, 21632)             0         \n",
            "_________________________________________________________________\n",
            "dense (Dense)                (None, 64)                1384512   \n",
            "_________________________________________________________________\n",
            "dense_1 (Dense)              (None, 10)                650       \n",
            "=================================================================\n",
            "Total params: 1,512,074\n",
            "Trainable params: 1,511,626\n",
            "Non-trainable params: 448\n",
            "_________________________________________________________________\n"
          ],
          "name": "stdout"
        }
      ]
    },
    {
      "cell_type": "code",
      "metadata": {
        "id": "8fQv_WH2pHi0"
      },
      "source": [
        ""
      ],
      "execution_count": null,
      "outputs": []
    }
  ]
}
{
  "nbformat": 4,
  "nbformat_minor": 0,
  "metadata": {
    "colab": {
      "name": "Convolutional Neural Networks with Sequential.ipynb",
      "provenance": [],
      "collapsed_sections": []
    },
    "kernelspec": {
      "name": "python3",
      "display_name": "Python 3"
    },
    "language_info": {
      "name": "python"
    }
  },
  "cells": [
    {
      "cell_type": "code",
      "metadata": {
        "id": "2Qae-APDXbBc"
      },
      "source": [
        "import tensorflow as tf\n",
        "from tensorflow import keras\n",
        "from tensorflow.keras import layers\n",
        "from tensorflow.keras.datasets import cifar10"
      ],
      "execution_count": 1,
      "outputs": []
    },
    {
      "cell_type": "code",
      "metadata": {
        "colab": {
          "base_uri": "https://localhost:8080/"
        },
        "id": "dRMtQzE1X89T",
        "outputId": "683f24bf-cac8-460d-b99d-62320e15b9e6"
      },
      "source": [
        "(xtrain, ytrain), (xtest, ytest) = cifar10.load_data()\n",
        "xtrain = xtrain.astype(\"float32\") / 255.0\n",
        "xtest = xtest.astype(\"float32\") / 255.0"
      ],
      "execution_count": 2,
      "outputs": [
        {
          "output_type": "stream",
          "text": [
            "Downloading data from https://www.cs.toronto.edu/~kriz/cifar-10-python.tar.gz\n",
            "170500096/170498071 [==============================] - 2s 0us/step\n"
          ],
          "name": "stdout"
        }
      ]
    },
    {
      "cell_type": "code",
      "metadata": {
        "colab": {
          "base_uri": "https://localhost:8080/"
        },
        "id": "dfUEFhEcYSiA",
        "outputId": "c4446ffa-d291-43cf-880d-a1437b4d52d4"
      },
      "source": [
        "model = keras.Sequential(\n",
        "    [\n",
        "     keras.Input(shape=(32, 32, 3)),\n",
        "     layers.Conv2D(32, (3, 3), padding='valid', activation='relu'),\n",
        "     layers.MaxPool2D(pool_size=(2, 2)),\n",
        "     layers.Conv2D(64, 3, activation='relu'),\n",
        "     layers.MaxPool2D(),\n",
        "     layers.Conv2D(128, 3, activation='relu'),\n",
        "     layers.Flatten(),\n",
        "     layers.Dense(64, activation='relu'),\n",
        "     layers.Dense(10)\n",
        "    ]\n",
        ")"
      ],
      "execution_count": 4,
      "outputs": [
        {
          "output_type": "stream",
          "text": [
            "WARNING:tensorflow:Please add `keras.layers.InputLayer` instead of `keras.Input` to Sequential model. `keras.Input` is intended to be used by Functional model.\n"
          ],
          "name": "stdout"
        }
      ]
    },
    {
      "cell_type": "code",
      "metadata": {
        "colab": {
          "base_uri": "https://localhost:8080/"
        },
        "id": "BJ7AgpdXZm8u",
        "outputId": "bba64f3f-46e7-4db8-cc09-7900dc13b870"
      },
      "source": [
        "model.compile(\n",
        "    loss=keras.losses.SparseCategoricalCrossentropy(from_logits=True),\n",
        "    optimizer=keras.optimizers.Adam(lr=3e-4),\n",
        "    metrics=['accuracy']\n",
        ")"
      ],
      "execution_count": 5,
      "outputs": [
        {
          "output_type": "stream",
          "text": [
            "/usr/local/lib/python3.7/dist-packages/tensorflow/python/keras/optimizer_v2/optimizer_v2.py:375: UserWarning: The `lr` argument is deprecated, use `learning_rate` instead.\n",
            "  \"The `lr` argument is deprecated, use `learning_rate` instead.\")\n"
          ],
          "name": "stderr"
        }
      ]
    },
    {
      "cell_type": "code",
      "metadata": {
        "colab": {
          "base_uri": "https://localhost:8080/"
        },
        "id": "9HicLrKEZ7My",
        "outputId": "86d6d1a1-0ee2-4210-ed1a-fa01805de811"
      },
      "source": [
        "model.fit(xtrain, ytrain, batch_size=64, epochs=10, verbose=2)\n",
        "model.evaluate(xtest, ytest, batch_size=64, verbose=2)"
      ],
      "execution_count": 6,
      "outputs": [
        {
          "output_type": "stream",
          "text": [
            "Epoch 1/10\n",
            "782/782 - 66s - loss: 1.6765 - accuracy: 0.3866\n",
            "Epoch 2/10\n",
            "782/782 - 66s - loss: 1.3479 - accuracy: 0.5180\n",
            "Epoch 3/10\n",
            "782/782 - 66s - loss: 1.2242 - accuracy: 0.5677\n",
            "Epoch 4/10\n",
            "782/782 - 65s - loss: 1.1280 - accuracy: 0.6045\n",
            "Epoch 5/10\n",
            "782/782 - 66s - loss: 1.0524 - accuracy: 0.6306\n",
            "Epoch 6/10\n",
            "782/782 - 65s - loss: 0.9915 - accuracy: 0.6523\n",
            "Epoch 7/10\n",
            "782/782 - 65s - loss: 0.9364 - accuracy: 0.6754\n",
            "Epoch 8/10\n",
            "782/782 - 66s - loss: 0.8967 - accuracy: 0.6894\n",
            "Epoch 9/10\n",
            "782/782 - 65s - loss: 0.8515 - accuracy: 0.7051\n",
            "Epoch 10/10\n",
            "782/782 - 65s - loss: 0.8200 - accuracy: 0.7194\n",
            "157/157 - 4s - loss: 0.8757 - accuracy: 0.6935\n"
          ],
          "name": "stdout"
        },
        {
          "output_type": "execute_result",
          "data": {
            "text/plain": [
              "[0.8757138848304749, 0.6934999823570251]"
            ]
          },
          "metadata": {
            "tags": []
          },
          "execution_count": 6
        }
      ]
    },
    {
      "cell_type": "code",
      "metadata": {
        "colab": {
          "base_uri": "https://localhost:8080/"
        },
        "id": "-Vg1c8N0aQ6P",
        "outputId": "632576a9-927e-4339-bcd4-9f09731ce510"
      },
      "source": [
        "model.summary()"
      ],
      "execution_count": 7,
      "outputs": [
        {
          "output_type": "stream",
          "text": [
            "Model: \"sequential\"\n",
            "_________________________________________________________________\n",
            "Layer (type)                 Output Shape              Param #   \n",
            "=================================================================\n",
            "conv2d (Conv2D)              (None, 30, 30, 32)        896       \n",
            "_________________________________________________________________\n",
            "max_pooling2d (MaxPooling2D) (None, 15, 15, 32)        0         \n",
            "_________________________________________________________________\n",
            "conv2d_1 (Conv2D)            (None, 13, 13, 64)        18496     \n",
            "_________________________________________________________________\n",
            "max_pooling2d_1 (MaxPooling2 (None, 6, 6, 64)          0         \n",
            "_________________________________________________________________\n",
            "conv2d_2 (Conv2D)            (None, 4, 4, 128)         73856     \n",
            "_________________________________________________________________\n",
            "flatten (Flatten)            (None, 2048)              0         \n",
            "_________________________________________________________________\n",
            "dense (Dense)                (None, 64)                131136    \n",
            "_________________________________________________________________\n",
            "dense_1 (Dense)              (None, 10)                650       \n",
            "=================================================================\n",
            "Total params: 225,034\n",
            "Trainable params: 225,034\n",
            "Non-trainable params: 0\n",
            "_________________________________________________________________\n"
          ],
          "name": "stdout"
        }
      ]
    },
    {
      "cell_type": "code",
      "metadata": {
        "id": "Tf2Ut-93c7m_"
      },
      "source": [
        ""
      ],
      "execution_count": null,
      "outputs": []
    }
  ]
}
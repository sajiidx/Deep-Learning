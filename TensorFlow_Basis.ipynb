{
  "nbformat": 4,
  "nbformat_minor": 0,
  "metadata": {
    "colab": {
      "name": "TensorFlow Basis.ipynb",
      "provenance": [],
      "collapsed_sections": []
    },
    "kernelspec": {
      "name": "python3",
      "display_name": "Python 3"
    },
    "language_info": {
      "name": "python"
    }
  },
  "cells": [
    {
      "cell_type": "code",
      "metadata": {
        "colab": {
          "base_uri": "https://localhost:8080/"
        },
        "id": "RJhbxaJjKWak",
        "outputId": "5e548366-9f81-45ca-c34c-b8d410cfbb96"
      },
      "source": [
        "import tensorflow as tf"
      ],
      "execution_count": 1,
      "outputs": [
        {
          "output_type": "stream",
          "text": [
            "2.5.0\n"
          ],
          "name": "stdout"
        }
      ]
    },
    {
      "cell_type": "code",
      "metadata": {
        "colab": {
          "base_uri": "https://localhost:8080/"
        },
        "id": "jFYoQdduMxRy",
        "outputId": "1c569e50-9b87-42ee-ece6-0b9b85b9d0ff"
      },
      "source": [
        "# Initialization of Tensors\n",
        "x = tf.constant(5, shape=(1, 1), dtype=tf.float32)\n",
        "x = tf.constant([[1, 2, 3], [4, 5, 6]])\n",
        "x = tf.ones((3, 3))\n",
        "x = tf.zeros((2, 3))\n",
        "x = tf.eye(3) # I for identity matrix\n",
        "x = tf.random.normal((3, 3), mean=0, stddev=1)\n",
        "x = tf.random.uniform((1, 3), minval=0, maxval=1)\n",
        "x = tf.range(9)\n",
        "x = tf.range(start=1, limit=10, delta=2)\n",
        "x = tf.cast(x, dtype=tf.float64)\n",
        "print(x)"
      ],
      "execution_count": 14,
      "outputs": [
        {
          "output_type": "stream",
          "text": [
            "tf.Tensor([1. 3. 5. 7. 9.], shape=(5,), dtype=float64)\n"
          ],
          "name": "stdout"
        }
      ]
    },
    {
      "cell_type": "code",
      "metadata": {
        "colab": {
          "base_uri": "https://localhost:8080/"
        },
        "id": "VKRpQllONcKd",
        "outputId": "db8ae582-ab09-4f1d-852f-77baf7c74257"
      },
      "source": [
        "#Mathematical Operations\n",
        "x = tf.constant([1, 2, 3])\n",
        "y = tf.constant([9, 8, 7])\n",
        "z = tf.add(x, y)\n",
        "z = x + y\n",
        "print(z)\n",
        "\n",
        "z = tf.subtract(x, y)\n",
        "z = x - y\n",
        "print(z)\n",
        "\n",
        "z = tf.divide(x, y)\n",
        "z = x / y\n",
        "print(z)\n",
        "\n",
        "z = tf.multiply(x, y)\n",
        "z = x * y\n",
        "print(z)\n",
        "\n",
        "z = tf.tensordot(x, y, axes= 1)\n",
        "z = tf.reduce_sum(x*y, axis=0)\n",
        "print(z)\n",
        "\n",
        "z = x ** 5\n",
        "print(z)\n",
        "\n",
        "x = tf.random.normal((2, 3))\n",
        "y = tf.random.normal((3, 4))\n",
        "z = tf.matmul(x, y)\n",
        "print(z)\n",
        "z = x @ y\n",
        "print(z)"
      ],
      "execution_count": 23,
      "outputs": [
        {
          "output_type": "stream",
          "text": [
            "tf.Tensor([10 10 10], shape=(3,), dtype=int32)\n",
            "tf.Tensor([-8 -6 -4], shape=(3,), dtype=int32)\n",
            "tf.Tensor([0.11111111 0.25       0.42857143], shape=(3,), dtype=float64)\n",
            "tf.Tensor([ 9 16 21], shape=(3,), dtype=int32)\n",
            "tf.Tensor(46, shape=(), dtype=int32)\n",
            "tf.Tensor([  1  32 243], shape=(3,), dtype=int32)\n",
            "tf.Tensor(\n",
            "[[ 0.47075135  2.5812993  -0.85917896  0.13152851]\n",
            " [ 4.0441427   0.15149105  2.2373548  -1.4562263 ]], shape=(2, 4), dtype=float32)\n",
            "tf.Tensor(\n",
            "[[ 0.47075135  2.5812993  -0.85917896  0.13152851]\n",
            " [ 4.0441427   0.15149105  2.2373548  -1.4562263 ]], shape=(2, 4), dtype=float32)\n"
          ],
          "name": "stdout"
        }
      ]
    },
    {
      "cell_type": "code",
      "metadata": {
        "colab": {
          "base_uri": "https://localhost:8080/"
        },
        "id": "RC9T6NSdPL_o",
        "outputId": "e9c4b84c-bfa3-4e5b-c2ee-6624615ddb79"
      },
      "source": [
        "# Indexing\n",
        "x = tf.constant([0, 1, 1, 2, 3, 1, 2, 3])\n",
        "print(x[:])\n",
        "print(x[1:])\n",
        "print(x[1: 3])\n",
        "print(x[: : 2])\n",
        "print(x[::-1])\n",
        "\n",
        "indices = tf.constant([0, 3])\n",
        "x_ind = tf.gather(x, indices)\n",
        "print(x_ind)\n",
        "\n",
        "x = tf.constant([[1, 2],\n",
        "                 [3, 4],\n",
        "                 [5, 6]])\n",
        "\n",
        "print(x[0, :])\n",
        "print(x[0:2, :])"
      ],
      "execution_count": 32,
      "outputs": [
        {
          "output_type": "stream",
          "text": [
            "tf.Tensor([0 1 1 2 3 1 2 3], shape=(8,), dtype=int32)\n",
            "tf.Tensor([1 1 2 3 1 2 3], shape=(7,), dtype=int32)\n",
            "tf.Tensor([1 1], shape=(2,), dtype=int32)\n",
            "tf.Tensor([0 1 3 2], shape=(4,), dtype=int32)\n",
            "tf.Tensor([3 2 1 3 2 1 1 0], shape=(8,), dtype=int32)\n",
            "tf.Tensor([0 2], shape=(2,), dtype=int32)\n",
            "tf.Tensor([1 2], shape=(2,), dtype=int32)\n",
            "tf.Tensor(\n",
            "[[1 2]\n",
            " [3 4]], shape=(2, 2), dtype=int32)\n"
          ],
          "name": "stdout"
        }
      ]
    },
    {
      "cell_type": "code",
      "metadata": {
        "colab": {
          "base_uri": "https://localhost:8080/"
        },
        "id": "vXTXx_oBQllq",
        "outputId": "e511b8ce-d285-4f98-f7ad-670dabc98ea6"
      },
      "source": [
        "# Reshaping\n",
        "x = tf.range(9)\n",
        "print(x)\n",
        "\n",
        "x = tf.reshape(x, (3, 3))\n",
        "print(x)\n",
        "\n",
        "x = tf.transpose(x, perm=[1, 0])\n",
        "print(x)"
      ],
      "execution_count": 35,
      "outputs": [
        {
          "output_type": "stream",
          "text": [
            "tf.Tensor([0 1 2 3 4 5 6 7 8], shape=(9,), dtype=int32)\n",
            "tf.Tensor(\n",
            "[[0 1 2]\n",
            " [3 4 5]\n",
            " [6 7 8]], shape=(3, 3), dtype=int32)\n",
            "tf.Tensor(\n",
            "[[0 3 6]\n",
            " [1 4 7]\n",
            " [2 5 8]], shape=(3, 3), dtype=int32)\n"
          ],
          "name": "stdout"
        }
      ]
    },
    {
      "cell_type": "code",
      "metadata": {
        "id": "g0ys8z68RlQg"
      },
      "source": [
        ""
      ],
      "execution_count": null,
      "outputs": []
    }
  ]
}